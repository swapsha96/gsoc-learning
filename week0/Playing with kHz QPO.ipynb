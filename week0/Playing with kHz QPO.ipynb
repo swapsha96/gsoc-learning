{
 "cells": [
  {
   "cell_type": "markdown",
   "metadata": {},
   "source": [
    "# Playing with sample kHz QPO dataset"
   ]
  },
  {
   "cell_type": "code",
   "execution_count": 1,
   "metadata": {},
   "outputs": [
    {
     "name": "stderr",
     "output_type": "stream",
     "text": [
      "/anaconda3/lib/python3.6/site-packages/h5py/__init__.py:36: FutureWarning: Conversion of the second argument of issubdtype from `float` to `np.floating` is deprecated. In future, it will be treated as `np.float64 == np.dtype(float).type`.\n",
      "  from ._conv import register_converters as _register_converters\n"
     ]
    }
   ],
   "source": [
    "from astropy.table import Table\n",
    "from stingray import Lightcurve, Powerspectrum, AveragedPowerspectrum\n",
    "\n",
    "import numpy as np\n",
    "import matplotlib.pyplot as plt\n",
    "import matplotlib.font_manager as font_manager\n",
    "%matplotlib inline\n",
    "font_prop = font_manager.FontProperties(size=16)"
   ]
  },
  {
   "cell_type": "code",
   "execution_count": 2,
   "metadata": {},
   "outputs": [
    {
     "name": "stdout",
     "output_type": "stream",
     "text": [
      "<Table length=32768>\n",
      "name  dtype   shape \n",
      "---- ------- -------\n",
      " REF float64   (20,)\n",
      "  CI float64 (5, 20)\n",
      "None\n",
      "OrderedDict([('N_BINS', 32768), ('DT', 0.00048828125), ('DETCHANS', 5), ('CHBIN', '/Users/abbie/Dropbox/Research/kHz_QPO_phase_res/toy_chbinfile.txt'), ('N_SEG', 20), ('NSECONDS', 16)])\n"
     ]
    },
    {
     "data": {
      "text/html": [
       "<i>Table length=32768</i>\n",
       "<table id=\"table4607840096\" class=\"table-striped table-bordered table-condensed\">\n",
       "<thead><tr><th>REF [20]</th><th>CI [5,20]</th></tr></thead>\n",
       "<thead><tr><th>float64</th><th>float64</th></tr></thead>\n",
       "<tr><td>2048.0 .. 0.0</td><td>0.0 .. 0.0</td></tr>\n",
       "<tr><td>2048.0 .. 4096.0</td><td>0.0 .. 0.0</td></tr>\n",
       "<tr><td>0.0 .. 0.0</td><td>0.0 .. 0.0</td></tr>\n",
       "<tr><td>6144.0 .. 0.0</td><td>0.0 .. 0.0</td></tr>\n",
       "<tr><td>2048.0 .. 4096.0</td><td>0.0 .. 0.0</td></tr>\n",
       "<tr><td>4096.0 .. 0.0</td><td>0.0 .. 0.0</td></tr>\n",
       "<tr><td>6144.0 .. 4096.0</td><td>0.0 .. 0.0</td></tr>\n",
       "<tr><td>2048.0 .. 2048.0</td><td>0.0 .. 0.0</td></tr>\n",
       "<tr><td>0.0 .. 2048.0</td><td>0.0 .. 0.0</td></tr>\n",
       "<tr><td>6144.0 .. 2048.0</td><td>0.0 .. 0.0</td></tr>\n",
       "<tr><td>...</td><td>...</td></tr>\n",
       "<tr><td>2048.0 .. 2048.0</td><td>0.0 .. 0.0</td></tr>\n",
       "<tr><td>0.0 .. 2048.0</td><td>0.0 .. 0.0</td></tr>\n",
       "<tr><td>0.0 .. 0.0</td><td>0.0 .. 0.0</td></tr>\n",
       "<tr><td>4096.0 .. 0.0</td><td>0.0 .. 0.0</td></tr>\n",
       "<tr><td>4096.0 .. 2048.0</td><td>0.0 .. 0.0</td></tr>\n",
       "<tr><td>2048.0 .. 2048.0</td><td>0.0 .. 0.0</td></tr>\n",
       "<tr><td>0.0 .. 2048.0</td><td>0.0 .. 0.0</td></tr>\n",
       "<tr><td>0.0 .. 2048.0</td><td>2048.0 .. 0.0</td></tr>\n",
       "<tr><td>0.0 .. 4096.0</td><td>0.0 .. 0.0</td></tr>\n",
       "<tr><td>2048.0 .. 2048.0</td><td>0.0 .. 0.0</td></tr>\n",
       "</table>"
      ],
      "text/plain": [
       "<Table length=32768>\n",
       "    REF [20]       CI [5,20]  \n",
       "    float64         float64   \n",
       "---------------- -------------\n",
       "   2048.0 .. 0.0    0.0 .. 0.0\n",
       "2048.0 .. 4096.0    0.0 .. 0.0\n",
       "      0.0 .. 0.0    0.0 .. 0.0\n",
       "   6144.0 .. 0.0    0.0 .. 0.0\n",
       "2048.0 .. 4096.0    0.0 .. 0.0\n",
       "   4096.0 .. 0.0    0.0 .. 0.0\n",
       "6144.0 .. 4096.0    0.0 .. 0.0\n",
       "2048.0 .. 2048.0    0.0 .. 0.0\n",
       "   0.0 .. 2048.0    0.0 .. 0.0\n",
       "6144.0 .. 2048.0    0.0 .. 0.0\n",
       "             ...           ...\n",
       "2048.0 .. 2048.0    0.0 .. 0.0\n",
       "   0.0 .. 2048.0    0.0 .. 0.0\n",
       "      0.0 .. 0.0    0.0 .. 0.0\n",
       "   4096.0 .. 0.0    0.0 .. 0.0\n",
       "4096.0 .. 2048.0    0.0 .. 0.0\n",
       "2048.0 .. 2048.0    0.0 .. 0.0\n",
       "   0.0 .. 2048.0    0.0 .. 0.0\n",
       "   0.0 .. 2048.0 2048.0 .. 0.0\n",
       "   0.0 .. 4096.0    0.0 .. 0.0\n",
       "2048.0 .. 2048.0    0.0 .. 0.0"
      ]
     },
     "execution_count": 2,
     "metadata": {},
     "output_type": "execute_result"
    }
   ],
   "source": [
    "lc_fits = Table.read('./toy_kHz_lightcurve.fits')\n",
    "meta = lc_fits.meta\n",
    "print(lc_fits.info())\n",
    "print(meta)\n",
    "dt = meta['DT']\n",
    "n_bins = meta['N_BINS']\n",
    "n_seg = meta['N_SEG']\n",
    "lc_fits"
   ]
  },
  {
   "cell_type": "code",
   "execution_count": 3,
   "metadata": {},
   "outputs": [
    {
     "name": "stdout",
     "output_type": "stream",
     "text": [
      "(32768, 20) (32768, 5, 20)\n"
     ]
    }
   ],
   "source": [
    "# multiply dt to get counts\n",
    "ref = lc_fits['REF'] * dt\n",
    "ci = lc_fits['CI'] * dt\n",
    "print(ref.shape, ci.shape)"
   ]
  },
  {
   "cell_type": "markdown",
   "metadata": {},
   "source": [
    "## What I learned about the dataset\n",
    "Given dataset has:-\n",
    "-  2 sets of lightcurves (REF and CI)\n",
    "-  5 channels of interest\n",
    "-  32768 bins of photon energy\n",
    "-  20 sequential segments\n",
    "-  'count rate' as unit"
   ]
  },
  {
   "cell_type": "code",
   "execution_count": 4,
   "metadata": {},
   "outputs": [
    {
     "name": "stdout",
     "output_type": "stream",
     "text": [
      " REF [20] \n",
      "----------\n",
      "1.0 .. 0.0\n",
      "1.0 .. 2.0\n",
      "0.0 .. 0.0\n",
      "3.0 .. 0.0\n",
      "1.0 .. 2.0\n",
      "2.0 .. 0.0\n",
      "3.0 .. 2.0\n",
      "1.0 .. 1.0\n",
      "0.0 .. 1.0\n",
      "3.0 .. 1.0\n",
      "       ...\n",
      "3.0 .. 2.0\n",
      "1.0 .. 1.0\n",
      "0.0 .. 1.0\n",
      "0.0 .. 0.0\n",
      "2.0 .. 0.0\n",
      "2.0 .. 1.0\n",
      "1.0 .. 1.0\n",
      "0.0 .. 1.0\n",
      "0.0 .. 1.0\n",
      "0.0 .. 2.0\n",
      "1.0 .. 1.0\n",
      "Length = 32768 rows\n",
      "[1. 0. 1. 1. 0. 3. 0. 0. 1. 1. 1. 1. 2. 1. 0. 0. 3. 2. 2. 0.]\n"
     ]
    }
   ],
   "source": [
    "print(ref)\n",
    "print(ref[0])"
   ]
  },
  {
   "cell_type": "code",
   "execution_count": 5,
   "metadata": {},
   "outputs": [
    {
     "name": "stdout",
     "output_type": "stream",
     "text": [
      "327680\n"
     ]
    },
    {
     "data": {
      "image/png": "[encoded data removed]",
      "text/plain": [
       "<Figure size 432x288 with 1 Axes>"
      ]
     },
     "metadata": {},
     "output_type": "display_data"
    }
   ],
   "source": [
    "start = 0\n",
    "stop = 10\n",
    "counts = np.hstack(np.array(ref[:,start:stop])) # Flatten first `x` rows (x = 10)\n",
    "times = np.arange(len(counts)) * dt\n",
    "print(len(counts))\n",
    "lc = Lightcurve(times, counts)\n",
    "lc.plot()"
   ]
  },
  {
   "cell_type": "markdown",
   "metadata": {},
   "source": [
    "## Powerspectrum and AveragedPowerspectrum"
   ]
  },
  {
   "cell_type": "markdown",
   "metadata": {},
   "source": [
    "A Powerspectrum object has the following properties :\n",
    "    -  freq : Numpy array of mid-bin frequencies that the Fourier transform samples.\n",
    "    -  power : Numpy array of the power spectrum.\n",
    "    -  df : The frequency resolution.\n",
    "    -  m : The number of power spectra averaged together. For a Powerspectrum of a single segment, m=1.\n",
    "    -  n : The number of data points (time bins) in one segment of the light curve.\n",
    "    -  nphots1 : The total number of photons in the light curve.\n"
   ]
  },
  {
   "cell_type": "code",
   "execution_count": 6,
   "metadata": {},
   "outputs": [
    {
     "name": "stdout",
     "output_type": "stream",
     "text": [
      "163839\n",
      "[6.25000000e-03 1.25000000e-02 1.87500000e-02 ... 1.02398125e+03\n",
      " 1.02398750e+03 1.02399375e+03]\n",
      "[0.00131019 0.00109412 0.00061471 ... 0.00043668 0.00042774 0.00163756]\n",
      "0.00625\n",
      "1\n",
      "327680\n",
      "368444.0\n"
     ]
    }
   ],
   "source": [
    "ps = Powerspectrum(lc)\n",
    "\n",
    "print(len(ps.freq))\n",
    "print(ps.freq)\n",
    "print(ps.power)\n",
    "print(ps.df)\n",
    "print(ps.m)\n",
    "print(ps.n)\n",
    "print(ps.nphots1)"
   ]
  },
  {
   "cell_type": "code",
   "execution_count": 7,
   "metadata": {},
   "outputs": [
    {
     "data": {
      "image/png": "[encoded data removed]",
      "text/plain": [
       "<Figure size 648x432 with 1 Axes>"
      ]
     },
     "metadata": {},
     "output_type": "display_data"
    }
   ],
   "source": [
    "fig, ax1 = plt.subplots(1,1,figsize=(9,6))\n",
    "ax1.plot(ps.freq, ps.power, lw=2, color='blue')\n",
    "ax1.set_ylabel(\"Frequency (Hz)\", fontproperties=font_prop)\n",
    "ax1.set_ylabel(\"Power (raw)\", fontproperties=font_prop)\n",
    "ax1.set_yscale('log')\n",
    "ax1.tick_params(axis='x', labelsize=16)\n",
    "ax1.tick_params(axis='y', labelsize=16)\n",
    "ax1.tick_params(which='major', width=1.5, length=7)\n",
    "ax1.tick_params(which='minor', width=1.5, length=4)\n",
    "for axis in ['top', 'bottom', 'left', 'right']:\n",
    "    ax1.spines[axis].set_linewidth(1.5)\n",
    "plt.show()"
   ]
  },
  {
   "cell_type": "code",
   "execution_count": null,
   "metadata": {},
   "outputs": [],
   "source": []
  },
  {
   "cell_type": "code",
   "execution_count": 8,
   "metadata": {},
   "outputs": [],
   "source": [
    "avg_ps = AveragedPowerspectrum(lc, 10)"
   ]
  },
  {
   "cell_type": "code",
   "execution_count": 9,
   "metadata": {
    "scrolled": false
   },
   "outputs": [
    {
     "data": {
      "image/png": "[encoded data removed]",
      "text/plain": [
       "<Figure size 648x432 with 1 Axes>"
      ]
     },
     "metadata": {},
     "output_type": "display_data"
    }
   ],
   "source": [
    "\n",
    "fig, ax1 = plt.subplots(1,1,figsize=(9,6))\n",
    "ax1.plot(avg_ps.freq, avg_ps.power, lw=2, color='blue')\n",
    "ax1.set_xlabel(\"Frequency (Hz)\", fontproperties=font_prop)\n",
    "ax1.set_ylabel(\"Power (raw)\", fontproperties=font_prop)\n",
    "ax1.set_yscale('log')\n",
    "ax1.tick_params(axis='x', labelsize=16)\n",
    "ax1.tick_params(axis='y', labelsize=16)\n",
    "ax1.tick_params(which='major', width=1.5, length=7)\n",
    "ax1.tick_params(which='minor', width=1.5, length=4)\n",
    "for axis in ['top', 'bottom', 'left', 'right']:\n",
    "    ax1.spines[axis].set_linewidth(1.5)\n",
    "plt.show()"
   ]
  },
  {
   "cell_type": "code",
   "execution_count": 10,
   "metadata": {},
   "outputs": [
    {
     "data": {
      "text/plain": [
       "1024.0"
      ]
     },
     "execution_count": 10,
     "metadata": {},
     "output_type": "execute_result"
    }
   ],
   "source": [
    "1/(2*dt)"
   ]
  },
  {
   "cell_type": "code",
   "execution_count": 11,
   "metadata": {},
   "outputs": [
    {
     "data": {
      "text/plain": [
       "2048.0"
      ]
     },
     "execution_count": 11,
     "metadata": {},
     "output_type": "execute_result"
    }
   ],
   "source": [
    "1024/.5"
   ]
  },
  {
   "cell_type": "code",
   "execution_count": 12,
   "metadata": {},
   "outputs": [
    {
     "data": {
      "text/plain": [
       "4096.0"
      ]
     },
     "execution_count": 12,
     "metadata": {},
     "output_type": "execute_result"
    }
   ],
   "source": [
    "n_seg/dt/(stop-start)"
   ]
  },
  {
   "cell_type": "code",
   "execution_count": 13,
   "metadata": {},
   "outputs": [
    {
     "data": {
      "text/plain": [
       "0.625"
      ]
     },
     "execution_count": 13,
     "metadata": {},
     "output_type": "execute_result"
    }
   ],
   "source": [
    "10/16"
   ]
  },
  {
   "cell_type": "code",
   "execution_count": null,
   "metadata": {},
   "outputs": [],
   "source": []
  }
 ],
 "metadata": {
  "kernelspec": {
   "display_name": "Python 3",
   "language": "python",
   "name": "python3"
  },
  "language_info": {
   "codemirror_mode": {
    "name": "ipython",
    "version": 3
   },
   "file_extension": ".py",
   "mimetype": "text/x-python",
   "name": "python",
   "nbconvert_exporter": "python",
   "pygments_lexer": "ipython3",
   "version": "3.6.4"
  }
 },
 "nbformat": 4,
 "nbformat_minor": 2
}
