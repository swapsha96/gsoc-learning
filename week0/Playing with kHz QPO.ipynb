{
 "cells": [
  {
   "cell_type": "markdown",
   "metadata": {},
   "source": [
    "# Playing with sample kHz QPO dataset"
   ]
  },
  {
   "cell_type": "code",
   "execution_count": 82,
   "metadata": {},
   "outputs": [],
   "source": [
    "from astropy.table import Table\n",
    "from stingray import Lightcurve, Powerspectrum, AveragedPowerspectrum\n",
    "\n",
    "import numpy as np\n",
    "import matplotlib.pyplot as plt\n",
    "import matplotlib.font_manager as font_manager\n",
    "%matplotlib inline\n",
    "font_prop = font_manager.FontProperties(size=16)"
   ]
  },
  {
   "cell_type": "code",
   "execution_count": 116,
   "metadata": {},
   "outputs": [
    {
     "name": "stdout",
     "output_type": "stream",
     "text": [
      "<Table length=32768>\n",
      "name  dtype   shape \n",
      "---- ------- -------\n",
      " REF float64   (20,)\n",
      "  CI float64 (5, 20)\n",
      "None\n",
      "OrderedDict([('N_BINS', 32768), ('DT', 0.00048828125), ('DETCHANS', 5), ('CHBIN', '/Users/abbie/Dropbox/Research/kHz_QPO_phase_res/toy_chbinfile.txt'), ('N_SEG', 20), ('NSECONDS', 16)])\n"
     ]
    },
    {
     "data": {
      "text/html": [
       "<i>Table length=32768</i>\n",
       "<table id=\"table4837272040\" class=\"table-striped table-bordered table-condensed\">\n",
       "<thead><tr><th>REF [20]</th><th>CI [5,20]</th></tr></thead>\n",
       "<thead><tr><th>float64</th><th>float64</th></tr></thead>\n",
       "<tr><td>2048.0 .. 0.0</td><td>0.0 .. 0.0</td></tr>\n",
       "<tr><td>2048.0 .. 4096.0</td><td>0.0 .. 0.0</td></tr>\n",
       "<tr><td>0.0 .. 0.0</td><td>0.0 .. 0.0</td></tr>\n",
       "<tr><td>6144.0 .. 0.0</td><td>0.0 .. 0.0</td></tr>\n",
       "<tr><td>2048.0 .. 4096.0</td><td>0.0 .. 0.0</td></tr>\n",
       "<tr><td>4096.0 .. 0.0</td><td>0.0 .. 0.0</td></tr>\n",
       "<tr><td>6144.0 .. 4096.0</td><td>0.0 .. 0.0</td></tr>\n",
       "<tr><td>2048.0 .. 2048.0</td><td>0.0 .. 0.0</td></tr>\n",
       "<tr><td>0.0 .. 2048.0</td><td>0.0 .. 0.0</td></tr>\n",
       "<tr><td>6144.0 .. 2048.0</td><td>0.0 .. 0.0</td></tr>\n",
       "<tr><td>...</td><td>...</td></tr>\n",
       "<tr><td>2048.0 .. 2048.0</td><td>0.0 .. 0.0</td></tr>\n",
       "<tr><td>0.0 .. 2048.0</td><td>0.0 .. 0.0</td></tr>\n",
       "<tr><td>0.0 .. 0.0</td><td>0.0 .. 0.0</td></tr>\n",
       "<tr><td>4096.0 .. 0.0</td><td>0.0 .. 0.0</td></tr>\n",
       "<tr><td>4096.0 .. 2048.0</td><td>0.0 .. 0.0</td></tr>\n",
       "<tr><td>2048.0 .. 2048.0</td><td>0.0 .. 0.0</td></tr>\n",
       "<tr><td>0.0 .. 2048.0</td><td>0.0 .. 0.0</td></tr>\n",
       "<tr><td>0.0 .. 2048.0</td><td>2048.0 .. 0.0</td></tr>\n",
       "<tr><td>0.0 .. 4096.0</td><td>0.0 .. 0.0</td></tr>\n",
       "<tr><td>2048.0 .. 2048.0</td><td>0.0 .. 0.0</td></tr>\n",
       "</table>"
      ],
      "text/plain": [
       "<Table length=32768>\n",
       "    REF [20]       CI [5,20]  \n",
       "    float64         float64   \n",
       "---------------- -------------\n",
       "   2048.0 .. 0.0    0.0 .. 0.0\n",
       "2048.0 .. 4096.0    0.0 .. 0.0\n",
       "      0.0 .. 0.0    0.0 .. 0.0\n",
       "   6144.0 .. 0.0    0.0 .. 0.0\n",
       "2048.0 .. 4096.0    0.0 .. 0.0\n",
       "   4096.0 .. 0.0    0.0 .. 0.0\n",
       "6144.0 .. 4096.0    0.0 .. 0.0\n",
       "2048.0 .. 2048.0    0.0 .. 0.0\n",
       "   0.0 .. 2048.0    0.0 .. 0.0\n",
       "6144.0 .. 2048.0    0.0 .. 0.0\n",
       "             ...           ...\n",
       "2048.0 .. 2048.0    0.0 .. 0.0\n",
       "   0.0 .. 2048.0    0.0 .. 0.0\n",
       "      0.0 .. 0.0    0.0 .. 0.0\n",
       "   4096.0 .. 0.0    0.0 .. 0.0\n",
       "4096.0 .. 2048.0    0.0 .. 0.0\n",
       "2048.0 .. 2048.0    0.0 .. 0.0\n",
       "   0.0 .. 2048.0    0.0 .. 0.0\n",
       "   0.0 .. 2048.0 2048.0 .. 0.0\n",
       "   0.0 .. 4096.0    0.0 .. 0.0\n",
       "2048.0 .. 2048.0    0.0 .. 0.0"
      ]
     },
     "execution_count": 116,
     "metadata": {},
     "output_type": "execute_result"
    }
   ],
   "source": [
    "lc_fits = Table.read('./toy_kHz_lightcurve.fits')\n",
    "meta = lc_fits.meta\n",
    "print(lc_fits.info())\n",
    "print(meta)\n",
    "dt = meta['DT']\n",
    "n_bins = meta['N_BINS']\n",
    "n_seg = meta['N_SEG']\n",
    "lc_fits"
   ]
  },
  {
   "cell_type": "code",
   "execution_count": 118,
   "metadata": {},
   "outputs": [
    {
     "name": "stdout",
     "output_type": "stream",
     "text": [
      "(32768, 20) (32768, 5, 20)\n"
     ]
    }
   ],
   "source": [
    "# multiply dt to get counts\n",
    "ref = lc_fits['REF'] * dt\n",
    "ci = lc_fits['CI'] * dt\n",
    "print(ref.shape, ci.shape)"
   ]
  },
  {
   "cell_type": "markdown",
   "metadata": {},
   "source": [
    "## What I learned about the dataset\n",
    "Given dataset has:-\n",
    "-  2 sets of lightcurves (REF and CI)\n",
    "-  5 channels of interest\n",
    "-  32768 bins of photon energy\n",
    "-  20 sequential segments\n",
    "-  'count rate' as unit"
   ]
  },
  {
   "cell_type": "code",
   "execution_count": 111,
   "metadata": {},
   "outputs": [
    {
     "name": "stdout",
     "output_type": "stream",
     "text": [
      " REF [20] \n",
      "----------\n",
      "1.0 .. 0.0\n",
      "1.0 .. 2.0\n",
      "0.0 .. 0.0\n",
      "3.0 .. 0.0\n",
      "1.0 .. 2.0\n",
      "2.0 .. 0.0\n",
      "3.0 .. 2.0\n",
      "1.0 .. 1.0\n",
      "0.0 .. 1.0\n",
      "3.0 .. 1.0\n",
      "       ...\n",
      "3.0 .. 2.0\n",
      "1.0 .. 1.0\n",
      "0.0 .. 1.0\n",
      "0.0 .. 0.0\n",
      "2.0 .. 0.0\n",
      "2.0 .. 1.0\n",
      "1.0 .. 1.0\n",
      "0.0 .. 1.0\n",
      "0.0 .. 1.0\n",
      "0.0 .. 2.0\n",
      "1.0 .. 1.0\n",
      "Length = 32768 rows\n",
      "[1. 0. 1. 1. 0. 3. 0. 0. 1. 1. 1. 1. 2. 1. 0. 0. 3. 2. 2. 0.]\n"
     ]
    }
   ],
   "source": [
    "print(ref)\n",
    "print(ref[0])"
   ]
  },
  {
   "cell_type": "code",
   "execution_count": 154,
   "metadata": {},
   "outputs": [
    {
     "data": {
      "image/png": "[encoded data removed]",
      "text/plain": [
       "<Figure size 432x288 with 1 Axes>"
      ]
     },
     "metadata": {},
     "output_type": "display_data"
    }
   ],
   "source": [
    "counts = np.hstack(np.array(ref[:,:])) # Flatten first `x` rows (x = 10)\n",
    "times = np.arange(len(counts))\n",
    "\n",
    "lc = Lightcurve(times, counts)\n",
    "lc.plot()"
   ]
  },
  {
   "cell_type": "markdown",
   "metadata": {},
   "source": [
    "A Powerspectrum object has the following properties :\n",
    "    -  freq : Numpy array of mid-bin frequencies that the Fourier transform samples.\n",
    "    -  power : Numpy array of the power spectrum.\n",
    "    -  df : The frequency resolution.\n",
    "    -  m : The number of power spectra averaged together. For a Powerspectrum of a single segment, m=1.\n",
    "    -  n : The number of data points (time bins) in one segment of the light curve.\n",
    "    -  nphots1 : The total number of photons in the light curve.\n"
   ]
  },
  {
   "cell_type": "code",
   "execution_count": 155,
   "metadata": {},
   "outputs": [
    {
     "name": "stdout",
     "output_type": "stream",
     "text": [
      "327679\n",
      "[1.52587891e-06 3.05175781e-06 4.57763672e-06 ... 4.99995422e-01\n",
      " 4.99996948e-01 4.99998474e-01]\n",
      "[6.42766055 2.06298256 0.12310045 ... 0.04710273 1.77836088 1.59712712]\n",
      "1.52587890625e-06\n",
      "1\n",
      "655360\n",
      "738545.0\n"
     ]
    }
   ],
   "source": [
    "ps = Powerspectrum(lc)\n",
    "\n",
    "print(len(ps.freq))\n",
    "print(ps.freq)\n",
    "print(ps.power)\n",
    "print(ps.df)\n",
    "print(ps.m)\n",
    "print(ps.n)\n",
    "print(ps.nphots1)"
   ]
  },
  {
   "cell_type": "code",
   "execution_count": 156,
   "metadata": {},
   "outputs": [
    {
     "data": {
      "image/png": "[encoded data removed]",
      "text/plain": [
       "<Figure size 648x432 with 1 Axes>"
      ]
     },
     "metadata": {},
     "output_type": "display_data"
    }
   ],
   "source": [
    "fig, ax1 = plt.subplots(1,1,figsize=(9,6), sharex=True)\n",
    "ax1.plot(ps.freq, ps.power, lw=2, color='blue')\n",
    "ax1.set_ylabel(\"Frequency (Hz)\", fontproperties=font_prop)\n",
    "ax1.set_ylabel(\"Power (raw)\", fontproperties=font_prop)\n",
    "ax1.set_yscale('log')\n",
    "ax1.tick_params(axis='x', labelsize=16)\n",
    "ax1.tick_params(axis='y', labelsize=16)\n",
    "ax1.tick_params(which='major', width=1.5, length=7)\n",
    "ax1.tick_params(which='minor', width=1.5, length=4)\n",
    "for axis in ['top', 'bottom', 'left', 'right']:\n",
    "    ax1.spines[axis].set_linewidth(1.5)\n",
    "plt.show()"
   ]
  },
  {
   "cell_type": "code",
   "execution_count": 157,
   "metadata": {},
   "outputs": [
    {
     "data": {
      "text/plain": [
       "array([[0., 1., 0., 1., 0., 0., 0., 0., 0., 0., 0., 0., 0., 0., 0., 0.,\n",
       "        0., 0., 0., 0.],\n",
       "       [1., 0., 0., 0., 0., 0., 0., 0., 0., 0., 0., 0., 0., 0., 1., 0.,\n",
       "        0., 0., 0., 0.],\n",
       "       [0., 0., 0., 0., 0., 0., 0., 0., 0., 0., 0., 0., 0., 0., 0., 0.,\n",
       "        0., 0., 0., 0.],\n",
       "       [0., 0., 0., 0., 0., 0., 1., 0., 0., 0., 0., 0., 0., 0., 0., 0.,\n",
       "        0., 0., 0., 0.],\n",
       "       [0., 0., 0., 0., 0., 0., 0., 0., 0., 0., 0., 0., 0., 0., 0., 0.,\n",
       "        0., 0., 0., 0.]])"
      ]
     },
     "execution_count": 157,
     "metadata": {},
     "output_type": "execute_result"
    }
   ],
   "source": [
    "ci[1000]"
   ]
  },
  {
   "cell_type": "code",
   "execution_count": 170,
   "metadata": {},
   "outputs": [],
   "source": [
    "avg_ps = AveragedPowerspectrum(lc, 100)"
   ]
  },
  {
   "cell_type": "code",
   "execution_count": 171,
   "metadata": {
    "scrolled": false
   },
   "outputs": [
    {
     "data": {
      "image/png": "[encoded data removed]",
      "text/plain": [
       "<Figure size 648x432 with 1 Axes>"
      ]
     },
     "metadata": {},
     "output_type": "display_data"
    }
   ],
   "source": [
    "fig, ax1 = plt.subplots(1,1,figsize=(9,6))\n",
    "ax1.plot(avg_ps.freq, avg_ps.power, lw=2, color='blue')\n",
    "ax1.set_xlabel(\"Frequency (Hz)\", fontproperties=font_prop)\n",
    "ax1.set_ylabel(\"Power (raw)\", fontproperties=font_prop)\n",
    "ax1.set_yscale('log')\n",
    "ax1.tick_params(axis='x', labelsize=16)\n",
    "ax1.tick_params(axis='y', labelsize=16)\n",
    "ax1.tick_params(which='major', width=1.5, length=7)\n",
    "ax1.tick_params(which='minor', width=1.5, length=4)\n",
    "for axis in ['top', 'bottom', 'left', 'right']:\n",
    "    ax1.spines[axis].set_linewidth(1.5)\n",
    "plt.show()"
   ]
  },
  {
   "cell_type": "code",
   "execution_count": null,
   "metadata": {},
   "outputs": [],
   "source": []
  }
 ],
 "metadata": {
  "kernelspec": {
   "display_name": "Python 3",
   "language": "python",
   "name": "python3"
  },
  "language_info": {
   "codemirror_mode": {
    "name": "ipython",
    "version": 3
   },
   "file_extension": ".py",
   "mimetype": "text/x-python",
   "name": "python",
   "nbconvert_exporter": "python",
   "pygments_lexer": "ipython3",
   "version": "3.6.4"
  }
 },
 "nbformat": 4,
 "nbformat_minor": 2
}
