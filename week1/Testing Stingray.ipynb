{
 "cells": [
  {
   "cell_type": "code",
   "execution_count": 22,
   "metadata": {},
   "outputs": [],
   "source": [
    "from astropy.table import Table\n",
    "from stingray import Lightcurve, Powerspectrum, AveragedPowerspectrum, DynamicalPowerspectrum\n",
    "from stingray.modeling.scripts import fit_powerspectrum, fit_lorentzians\n",
    "from scipy.stats import binned_statistic\n",
    "\n",
    "import numpy as np\n",
    "import matplotlib.pyplot as plt\n",
    "import matplotlib.font_manager as font_manager\n",
    "%matplotlib inline\n",
    "font_prop = font_manager.FontProperties(size=16)"
   ]
  },
  {
   "cell_type": "code",
   "execution_count": 15,
   "metadata": {},
   "outputs": [
    {
     "name": "stdout",
     "output_type": "stream",
     "text": [
      "<Table length=94>\n",
      "   name    dtype     unit   \n",
      "--------- ------- ----------\n",
      "FREQUENCY float32         Hz\n",
      "    POWER float32 frac rms^2\n",
      "    ERROR float32 frac rms^2\n",
      "None\n"
     ]
    },
    {
     "data": {
      "text/html": [
       "<i>Table length=94</i>\n",
       "<table id=\"table4718996000\" class=\"table-striped table-bordered table-condensed\">\n",
       "<thead><tr><th>FREQUENCY</th><th>POWER</th><th>ERROR</th></tr></thead>\n",
       "<thead><tr><th>Hz</th><th>frac rms^2</th><th>frac rms^2</th></tr></thead>\n",
       "<thead><tr><th>float32</th><th>float32</th><th>float32</th></tr></thead>\n",
       "<tr><td>0.0</td><td>-0.0007862593</td><td>0.0</td></tr>\n",
       "<tr><td>0.014960597</td><td>0.018399091</td><td>0.0013465476</td></tr>\n",
       "<tr><td>0.029921195</td><td>0.015440796</td><td>0.001138916</td></tr>\n",
       "<tr><td>0.044881795</td><td>0.010862097</td><td>0.00081755436</td></tr>\n",
       "<tr><td>0.05984239</td><td>0.0058397288</td><td>0.0004650532</td></tr>\n",
       "<tr><td>0.07480299</td><td>0.005619941</td><td>0.00044962708</td></tr>\n",
       "<tr><td>0.08976359</td><td>0.0044035064</td><td>0.00036425013</td></tr>\n",
       "<tr><td>0.11220448</td><td>0.0038934425</td><td>0.0002323083</td></tr>\n",
       "<tr><td>0.14212567</td><td>0.003991593</td><td>0.00023761722</td></tr>\n",
       "<tr><td>...</td><td>...</td><td>...</td></tr>\n",
       "<tr><td>34.07276</td><td>1.20390005e-05</td><td>4.8601596e-06</td></tr>\n",
       "<tr><td>36.137325</td><td>1.14225595e-05</td><td>4.7160993e-06</td></tr>\n",
       "<tr><td>38.321568</td><td>1.0011689e-05</td><td>4.578267e-06</td></tr>\n",
       "<tr><td>40.632984</td><td>1.7895948e-06</td><td>4.402146e-06</td></tr>\n",
       "<tr><td>43.08652</td><td>-3.5963476e-06</td><td>4.2431875e-06</td></tr>\n",
       "<tr><td>45.689667</td><td>1.0767602e-06</td><td>4.1454314e-06</td></tr>\n",
       "<tr><td>48.442417</td><td>1.0866917e-05</td><td>4.083972e-06</td></tr>\n",
       "<tr><td>51.359734</td><td>-3.4911325e-06</td><td>3.8874755e-06</td></tr>\n",
       "<tr><td>54.456577</td><td>2.756156e-06</td><td>3.812164e-06</td></tr>\n",
       "<tr><td>57.740425</td><td>1.3097599e-05</td><td>3.8492617e-06</td></tr>\n",
       "</table>"
      ],
      "text/plain": [
       "<Table length=94>\n",
       " FREQUENCY      POWER          ERROR    \n",
       "     Hz       frac rms^2     frac rms^2 \n",
       "  float32      float32        float32   \n",
       "----------- -------------- -------------\n",
       "        0.0  -0.0007862593           0.0\n",
       "0.014960597    0.018399091  0.0013465476\n",
       "0.029921195    0.015440796   0.001138916\n",
       "0.044881795    0.010862097 0.00081755436\n",
       " 0.05984239   0.0058397288  0.0004650532\n",
       " 0.07480299    0.005619941 0.00044962708\n",
       " 0.08976359   0.0044035064 0.00036425013\n",
       " 0.11220448   0.0038934425  0.0002323083\n",
       " 0.14212567    0.003991593 0.00023761722\n",
       "        ...            ...           ...\n",
       "   34.07276 1.20390005e-05 4.8601596e-06\n",
       "  36.137325 1.14225595e-05 4.7160993e-06\n",
       "  38.321568  1.0011689e-05  4.578267e-06\n",
       "  40.632984  1.7895948e-06  4.402146e-06\n",
       "   43.08652 -3.5963476e-06 4.2431875e-06\n",
       "  45.689667  1.0767602e-06 4.1454314e-06\n",
       "  48.442417  1.0866917e-05  4.083972e-06\n",
       "  51.359734 -3.4911325e-06 3.8874755e-06\n",
       "  54.456577   2.756156e-06  3.812164e-06\n",
       "  57.740425  1.3097599e-05 3.8492617e-06"
      ]
     },
     "execution_count": 15,
     "metadata": {},
     "output_type": "execute_result"
    }
   ],
   "source": [
    "lc_fits = Table.read('./BQPO_psd_rb.fits')\n",
    "meta = lc_fits.meta\n",
    "print(lc_fits.info())\n",
    "lc_fits"
   ]
  },
  {
   "cell_type": "code",
   "execution_count": 32,
   "metadata": {
    "scrolled": false
   },
   "outputs": [
    {
     "data": {
      "image/png": "[encoded data removed]",
      "text/plain": [
       "<Figure size 648x432 with 1 Axes>"
      ]
     },
     "metadata": {},
     "output_type": "display_data"
    }
   ],
   "source": [
    "# # multiply dt to get counts\n",
    "# ref = np.asarray(lc_fits['REF'].T * dt, dtype=np.float64)\n",
    "# ci = np.asarray(lc_fits['CI'].T * dt, dtype=np.float64)\n",
    "# times = np.arange(0, n_seconds*n_seg, dt)\n",
    "# print(ref.shape, ci.shape, times.shape)\n",
    "\n",
    "# # get counts in ref and ci bands\n",
    "# ref_counts = np.hstack(ref)\n",
    "# ci_counts = np.hstack(ci)\n",
    "# print(ref_counts.shape, ci_counts.shape, times.shape)\n",
    "avg_ps = AveragedPowerspectrum()\n",
    "avg_ps.norm = \"leahy\"\n",
    "avg_ps.freq = lc_fits['FREQUENCY']\n",
    "avg_ps.power = lc_fits['POWER']\n",
    "avg_ps.power_err = lc_fits['ERROR']\n",
    "avg_ps.df = avg_ps.freq[1] - avg_ps.freq[0]\n",
    "\n",
    "range_start = 0\n",
    "range_stop = int(len(avg_ps.freq)/4)\n",
    "\n",
    "fig, ax1 = plt.subplots(1,1,figsize=(9,6))\n",
    "ax1.plot(avg_ps.freq[range_start:range_stop], avg_ps.power[range_start:range_stop], lw=2, color='blue')\n",
    "ax1.set_xlabel(\"Frequency (Hz)\", fontproperties=font_prop)\n",
    "ax1.set_ylabel(\"Power (raw)\", fontproperties=font_prop)\n",
    "# ax1.set_yscale('log')\n",
    "ax1.tick_params(axis='x', labelsize=16)\n",
    "ax1.tick_params(axis='y', labelsize=16)\n",
    "ax1.tick_params(which='major', width=1.5, length=7)\n",
    "ax1.tick_params(which='minor', width=1.5, length=4)\n",
    "for axis in ['top', 'bottom', 'left', 'right']:\n",
    "    ax1.spines[axis].set_linewidth(1.5)\n",
    "plt.show()"
   ]
  },
  {
   "cell_type": "code",
   "execution_count": 41,
   "metadata": {},
   "outputs": [
    {
     "data": {
      "text/plain": [
       "0.013399091437458991"
      ]
     },
     "execution_count": 41,
     "metadata": {},
     "output_type": "execute_result"
    }
   ],
   "source": [
    "max_index = avg_ps.power.argmax()\n",
    "max_freq = avg_ps.freq[max_index]\n",
    "max_power = avg_ps.power[max_index]\n",
    "max_power-0.005"
   ]
  },
  {
   "cell_type": "code",
   "execution_count": 39,
   "metadata": {},
   "outputs": [
    {
     "data": {
      "text/html": [
       "&lt;Column name=&apos;POWER&apos; dtype=&apos;float32&apos; unit=&apos;frac rms^2&apos; length=94&gt;\n",
       "<table>\n",
       "<tr><td>-0.0007862593</td></tr>\n",
       "<tr><td>0.018399091</td></tr>\n",
       "<tr><td>0.015440796</td></tr>\n",
       "<tr><td>0.010862097</td></tr>\n",
       "<tr><td>0.0058397288</td></tr>\n",
       "<tr><td>0.005619941</td></tr>\n",
       "<tr><td>0.0044035064</td></tr>\n",
       "<tr><td>0.0038934425</td></tr>\n",
       "<tr><td>0.003991593</td></tr>\n",
       "<tr><td>0.0033852905</td></tr>\n",
       "<tr><td>0.0031942348</td></tr>\n",
       "<tr><td>0.0027940518</td></tr>\n",
       "<tr><td>...</td></tr>\n",
       "<tr><td>1.7803915e-05</td></tr>\n",
       "<tr><td>1.6016575e-05</td></tr>\n",
       "<tr><td>1.20390005e-05</td></tr>\n",
       "<tr><td>1.14225595e-05</td></tr>\n",
       "<tr><td>1.0011689e-05</td></tr>\n",
       "<tr><td>1.7895948e-06</td></tr>\n",
       "<tr><td>-3.5963476e-06</td></tr>\n",
       "<tr><td>1.0767602e-06</td></tr>\n",
       "<tr><td>1.0866917e-05</td></tr>\n",
       "<tr><td>-3.4911325e-06</td></tr>\n",
       "<tr><td>2.756156e-06</td></tr>\n",
       "<tr><td>1.3097599e-05</td></tr>\n",
       "</table>"
      ],
      "text/plain": [
       "<Column name='POWER' dtype='float32' unit='frac rms^2' length=94>\n",
       " -0.0007862593\n",
       "   0.018399091\n",
       "   0.015440796\n",
       "   0.010862097\n",
       "  0.0058397288\n",
       "   0.005619941\n",
       "  0.0044035064\n",
       "  0.0038934425\n",
       "   0.003991593\n",
       "  0.0033852905\n",
       "  0.0031942348\n",
       "  0.0027940518\n",
       "           ...\n",
       " 1.7803915e-05\n",
       " 1.6016575e-05\n",
       "1.20390005e-05\n",
       "1.14225595e-05\n",
       " 1.0011689e-05\n",
       " 1.7895948e-06\n",
       "-3.5963476e-06\n",
       " 1.0767602e-06\n",
       " 1.0866917e-05\n",
       "-3.4911325e-06\n",
       "  2.756156e-06\n",
       " 1.3097599e-05"
      ]
     },
     "execution_count": 39,
     "metadata": {},
     "output_type": "execute_result"
    }
   ],
   "source": []
  },
  {
   "cell_type": "code",
   "execution_count": null,
   "metadata": {},
   "outputs": [],
   "source": []
  }
 ],
 "metadata": {
  "kernelspec": {
   "display_name": "Python 3",
   "language": "python",
   "name": "python3"
  },
  "language_info": {
   "codemirror_mode": {
    "name": "ipython",
    "version": 3
   },
   "file_extension": ".py",
   "mimetype": "text/x-python",
   "name": "python",
   "nbconvert_exporter": "python",
   "pygments_lexer": "ipython3",
   "version": "3.6.4"
  }
 },
 "nbformat": 4,
 "nbformat_minor": 2
}
